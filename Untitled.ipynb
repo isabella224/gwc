{
 "cells": [
  {
   "cell_type": "code",
   "execution_count": 1,
   "metadata": {},
   "outputs": [
    {
     "name": "stdout",
     "output_type": "stream",
     "text": [
      "1\n",
      "2\n",
      "3\n",
      "4\n",
      "5\n",
      "6\n",
      "7\n",
      "8\n",
      "9\n",
      "10\n"
     ]
    }
   ],
   "source": [
    "for i in range(1,11):\n",
    "    print(i)"
   ]
  },
  {
   "cell_type": "code",
   "execution_count": 8,
   "metadata": {},
   "outputs": [
    {
     "name": "stdout",
     "output_type": "stream",
     "text": [
      "2\n",
      "4\n",
      "6\n",
      "8\n",
      "10\n",
      "12\n",
      "14\n",
      "16\n",
      "18\n",
      "20\n"
     ]
    }
   ],
   "source": [
    "for i in range(1,21):\n",
    "    if (i % 2 == 0):\n",
    "        print(i)  "
   ]
  },
  {
   "cell_type": "code",
   "execution_count": 4,
   "metadata": {},
   "outputs": [
    {
     "name": "stdout",
     "output_type": "stream",
     "text": [
      "1\n",
      "3\n",
      "5\n",
      "7\n",
      "9\n",
      "11\n",
      "13\n",
      "15\n",
      "17\n",
      "19\n"
     ]
    }
   ],
   "source": [
    "for i in range(1,21):\n",
    "    if (i % 2 != 0):\n",
    "        print(i)"
   ]
  },
  {
   "cell_type": "code",
   "execution_count": 20,
   "metadata": {},
   "outputs": [],
   "source": [
    "the_list = ['apple', 'squash','door', 'stop','sushi','strawberry','code', 'girls']\n",
    "s_words = []\n",
    "\n",
    "for word in the_list:\n",
    "    if word[0] == 's':\n",
    "        s_words.append(word)"
   ]
  },
  {
   "cell_type": "code",
   "execution_count": 21,
   "metadata": {},
   "outputs": [
    {
     "data": {
      "text/plain": [
       "['squash', 'stop', 'sushi', 'strawberry']"
      ]
     },
     "execution_count": 21,
     "metadata": {},
     "output_type": "execute_result"
    }
   ],
   "source": [
    "s_words"
   ]
  },
  {
   "cell_type": "code",
   "execution_count": 2,
   "metadata": {},
   "outputs": [
    {
     "name": "stdout",
     "output_type": "stream",
     "text": [
      "1\n",
      "2\n",
      "fizz\n",
      "4\n",
      "5\n",
      "fizz\n",
      "7\n",
      "8\n",
      "fizz\n",
      "10\n",
      "11\n",
      "fizz\n",
      "13\n",
      "14\n",
      "fizz\n",
      "16\n",
      "17\n",
      "fizz\n",
      "19\n",
      "20\n",
      "fizz\n",
      "22\n",
      "23\n",
      "fizz\n",
      "25\n",
      "26\n",
      "fizz\n",
      "28\n",
      "29\n",
      "fizz\n",
      "31\n",
      "32\n",
      "fizz\n",
      "34\n",
      "35\n",
      "fizz\n",
      "37\n",
      "38\n",
      "fizz\n",
      "40\n",
      "41\n",
      "fizz\n",
      "43\n",
      "44\n",
      "fizz\n",
      "46\n",
      "47\n",
      "fizz\n",
      "49\n",
      "50\n",
      "fizz\n",
      "52\n",
      "53\n",
      "fizz\n",
      "55\n",
      "56\n",
      "fizz\n",
      "58\n",
      "59\n",
      "fizz\n",
      "61\n",
      "62\n",
      "fizz\n",
      "64\n",
      "65\n",
      "fizz\n",
      "67\n",
      "68\n",
      "fizz\n",
      "70\n",
      "71\n",
      "fizz\n",
      "73\n",
      "74\n",
      "fizz\n",
      "76\n",
      "77\n",
      "fizz\n",
      "79\n",
      "80\n",
      "fizz\n",
      "82\n",
      "83\n",
      "fizz\n",
      "85\n",
      "86\n",
      "fizz\n",
      "88\n",
      "89\n",
      "fizz\n",
      "91\n",
      "92\n",
      "fizz\n",
      "94\n",
      "95\n",
      "fizz\n",
      "97\n",
      "98\n",
      "fizz\n",
      "100\n"
     ]
    }
   ],
   "source": [
    "for i in range(1, 101):\n",
    "    if i % 3 == 0:\n",
    "        print(\"fizz\")\n",
    "    elif 1 % 5 == 0:\n",
    "        print(Buzz)\n",
    "        \n",
    "    else:\n",
    "        print(i)\n",
    "        "
   ]
  }
 ],
 "metadata": {
  "kernelspec": {
   "display_name": "Python 3",
   "language": "python",
   "name": "python3"
  },
  "language_info": {
   "codemirror_mode": {
    "name": "ipython",
    "version": 3
   },
   "file_extension": ".py",
   "mimetype": "text/x-python",
   "name": "python",
   "nbconvert_exporter": "python",
   "pygments_lexer": "ipython3",
   "version": "3.7.3"
  }
 },
 "nbformat": 4,
 "nbformat_minor": 2
}
